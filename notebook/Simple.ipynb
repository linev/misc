{
 "cells": [
  {
   "cell_type": "code",
   "execution_count": 1,
   "metadata": {},
   "outputs": [],
   "source": [
    "import ROOT"
   ]
  },
  {
   "cell_type": "code",
   "execution_count": 2,
   "metadata": {
    "slideshow": {
     "slide_type": ""
    },
    "tags": []
   },
   "outputs": [
    {
     "data": {
      "text/html": [
       "\n",
       "<div id=\"root_plot_1758716105779\" style=\"width: 800px; height: 600px; position: relative\">\n",
       "</div>\n",
       "<script>\n",
       "   function process_root_plot_1758716105779() {\n",
       "      function drawPlot(Core) {\n",
       "         Core.settings.HandleKeys = false;\n",
       "         Core.unzipJSON(21892,'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').then(json => {\n",
       "            const obj = Core.parse(json);\n",
       "            Core.draw('root_plot_1758716105779', obj, '');\n",
       "         });\n",
       "      }\n",
       "      const servers = ['/static/', 'https://jsroot.gsi.de/dev/', 'https://root.cern/js/dev/'],\n",
       "            path = 'build/jsroot';\n",
       "      if (typeof JSROOT !== 'undefined')\n",
       "         drawPlot(JSROOT);\n",
       "      else if (typeof requirejs !== 'undefined') {\n",
       "         servers.forEach((s,i) => { servers[i] = s + path; });\n",
       "         requirejs.config({ paths: { 'jsroot' : servers } })(['jsroot'],  drawPlot);\n",
       "      } else {\n",
       "         const config = document.getElementById('jupyter-config-data');\n",
       "         if (config)\n",
       "            servers[0] = (JSON.parse(config.innerHTML || '{}')?.baseUrl || '/') + 'static/';\n",
       "         else\n",
       "            servers.shift();\n",
       "         function loadJsroot() {\n",
       "            return !servers.length ? 0 : import(servers.shift() + path + '.js').catch(loadJsroot).then(() => drawPlot(JSROOT));\n",
       "         }\n",
       "         loadJsroot();\n",
       "      }\n",
       "   }\n",
       "   process_root_plot_1758716105779();\n",
       "</script>\n"
      ],
      "text/plain": [
       "<IPython.core.display.HTML object>"
      ]
     },
     "metadata": {},
     "output_type": "display_data"
    }
   ],
   "source": [
    "h = ROOT.TH1F(\"gauss\",\"Example histogram\",100,-4,4)\n",
    "h.FillRandom(\"gaus\", 10000)\n",
    "c = ROOT.TCanvas(\"myCanvasName\",\"The Canvas Title\",800,600)\n",
    "h.Draw()\n",
    "c.Draw()"
   ]
  },
  {
   "cell_type": "code",
   "execution_count": 3,
   "metadata": {},
   "outputs": [
    {
     "data": {
      "text/html": [
       "\n",
       "<div id=\"root_plot_1758716109600\" style=\"width: 800px; height: 600px; position: relative\">\n",
       "</div>\n",
       "<script>\n",
       "   function process_root_plot_1758716109600() {\n",
       "      function drawPlot(Core) {\n",
       "         Core.settings.HandleKeys = false;\n",
       "         Core.unzipJSON(21892,'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').then(json => {\n",
       "            const obj = Core.parse(json);\n",
       "            Core.draw('root_plot_1758716109600', obj, '');\n",
       "         });\n",
       "      }\n",
       "      const servers = ['/static/', 'https://jsroot.gsi.de/dev/', 'https://root.cern/js/dev/'],\n",
       "            path = 'build/jsroot';\n",
       "      if (typeof JSROOT !== 'undefined')\n",
       "         drawPlot(JSROOT);\n",
       "      else if (typeof requirejs !== 'undefined') {\n",
       "         servers.forEach((s,i) => { servers[i] = s + path; });\n",
       "         requirejs.config({ paths: { 'jsroot' : servers } })(['jsroot'],  drawPlot);\n",
       "      } else {\n",
       "         const config = document.getElementById('jupyter-config-data');\n",
       "         if (config)\n",
       "            servers[0] = (JSON.parse(config.innerHTML || '{}')?.baseUrl || '/') + 'static/';\n",
       "         else\n",
       "            servers.shift();\n",
       "         function loadJsroot() {\n",
       "            return !servers.length ? 0 : import(servers.shift() + path + '.js').catch(loadJsroot).then(() => drawPlot(JSROOT));\n",
       "         }\n",
       "         loadJsroot();\n",
       "      }\n",
       "   }\n",
       "   process_root_plot_1758716109600();\n",
       "</script>\n"
      ],
      "text/plain": [
       "<IPython.core.display.HTML object>"
      ]
     },
     "metadata": {},
     "output_type": "display_data"
    }
   ],
   "source": [
    "c.Draw()"
   ]
  },
  {
   "cell_type": "code",
   "execution_count": 4,
   "metadata": {},
   "outputs": [
    {
     "data": {
      "text/html": [
       "\n",
       "<div id=\"root_plot_1758716112480\" style=\"width: 800px; height: 600px; position: relative\">\n",
       "</div>\n",
       "<script>\n",
       "   function process_root_plot_1758716112480() {\n",
       "      function drawPlot(Core) {\n",
       "         Core.settings.HandleKeys = false;\n",
       "         Core.unzipJSON(21892,'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').then(json => {\n",
       "            const obj = Core.parse(json);\n",
       "            Core.draw('root_plot_1758716112480', obj, '');\n",
       "         });\n",
       "      }\n",
       "      const servers = ['/static/', 'https://jsroot.gsi.de/dev/', 'https://root.cern/js/dev/'],\n",
       "            path = 'build/jsroot';\n",
       "      if (typeof JSROOT !== 'undefined')\n",
       "         drawPlot(JSROOT);\n",
       "      else if (typeof requirejs !== 'undefined') {\n",
       "         servers.forEach((s,i) => { servers[i] = s + path; });\n",
       "         requirejs.config({ paths: { 'jsroot' : servers } })(['jsroot'],  drawPlot);\n",
       "      } else {\n",
       "         const config = document.getElementById('jupyter-config-data');\n",
       "         if (config)\n",
       "            servers[0] = (JSON.parse(config.innerHTML || '{}')?.baseUrl || '/') + 'static/';\n",
       "         else\n",
       "            servers.shift();\n",
       "         function loadJsroot() {\n",
       "            return !servers.length ? 0 : import(servers.shift() + path + '.js').catch(loadJsroot).then(() => drawPlot(JSROOT));\n",
       "         }\n",
       "         loadJsroot();\n",
       "      }\n",
       "   }\n",
       "   process_root_plot_1758716112480();\n",
       "</script>\n"
      ],
      "text/plain": [
       "<IPython.core.display.HTML object>"
      ]
     },
     "metadata": {},
     "output_type": "display_data"
    }
   ],
   "source": [
    "%jsroot on\n",
    "c.Draw()"
   ]
  },
  {
   "cell_type": "code",
   "execution_count": 5,
   "metadata": {},
   "outputs": [
    {
     "data": {
      "text/html": [
       "\n",
       "<div id=\"root_plot_1758716117953\" style=\"width: 800px; height: 600px; position: relative\">\n",
       "</div>\n",
       "<script>\n",
       "   function process_root_plot_1758716117953() {\n",
       "      function drawPlot(Core) {\n",
       "         Core.settings.HandleKeys = false;\n",
       "         Core.unzipJSON(21892,'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').then(json => {\n",
       "            const obj = Core.parse(json);\n",
       "            Core.draw('root_plot_1758716117953', obj, '');\n",
       "         });\n",
       "      }\n",
       "      const servers = ['/static/', 'https://jsroot.gsi.de/dev/', 'https://root.cern/js/dev/'],\n",
       "            path = 'build/jsroot';\n",
       "      if (typeof JSROOT !== 'undefined')\n",
       "         drawPlot(JSROOT);\n",
       "      else if (typeof requirejs !== 'undefined') {\n",
       "         servers.forEach((s,i) => { servers[i] = s + path; });\n",
       "         requirejs.config({ paths: { 'jsroot' : servers } })(['jsroot'],  drawPlot);\n",
       "      } else {\n",
       "         const config = document.getElementById('jupyter-config-data');\n",
       "         if (config)\n",
       "            servers[0] = (JSON.parse(config.innerHTML || '{}')?.baseUrl || '/') + 'static/';\n",
       "         else\n",
       "            servers.shift();\n",
       "         function loadJsroot() {\n",
       "            return !servers.length ? 0 : import(servers.shift() + path + '.js').catch(loadJsroot).then(() => drawPlot(JSROOT));\n",
       "         }\n",
       "         loadJsroot();\n",
       "      }\n",
       "   }\n",
       "   process_root_plot_1758716117953();\n",
       "</script>\n"
      ],
      "text/plain": [
       "<IPython.core.display.HTML object>"
      ]
     },
     "metadata": {},
     "output_type": "display_data"
    }
   ],
   "source": [
    "h.Draw()\n",
    "c.Draw()"
   ]
  },
  {
   "cell_type": "code",
   "execution_count": 6,
   "metadata": {},
   "outputs": [
    {
     "name": "stdout",
     "output_type": "stream",
     "text": [
      "Canvas Name=myCanvasName Title=The Canvas Title Option=\n",
      " TCanvas fXlowNDC=0 fYlowNDC=0 fWNDC=1 fHNDC=1 Name= myCanvasName Title= The Canvas Title Option=\n",
      "  OBJ: TList\tTList\tDoubly linked list : 0\n",
      "   TFrame  X1= -4.000000 Y1=0.000000 X2=4.000000 Y2=360.150000\n",
      "   OBJ: TH1F\tgauss\tExample histogram : 0 at: 0x561243a19680\n",
      "   OBJ: TPaveText\ttitle  \tX1= -1.770854 Y1=375.528788 X2=1.770854 Y2=402.917818\n"
     ]
    }
   ],
   "source": [
    "c.ls()"
   ]
  },
  {
   "cell_type": "code",
   "execution_count": null,
   "metadata": {},
   "outputs": [],
   "source": []
  }
 ],
 "metadata": {
  "kernelspec": {
   "display_name": "Python 3.13 (ipykernel)",
   "language": "python",
   "name": "python3.13"
  },
  "language_info": {
   "codemirror_mode": {
    "name": "ipython",
    "version": 3
   },
   "file_extension": ".py",
   "mimetype": "text/x-python",
   "name": "python",
   "nbconvert_exporter": "python",
   "pygments_lexer": "ipython3",
   "version": "3.13.7"
  }
 },
 "nbformat": 4,
 "nbformat_minor": 4
}
